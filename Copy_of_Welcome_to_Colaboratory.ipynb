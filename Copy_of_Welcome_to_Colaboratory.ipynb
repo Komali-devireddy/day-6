{
  "cells": [
    {
      "cell_type": "markdown",
      "metadata": {
        "id": "view-in-github",
        "colab_type": "text"
      },
      "source": [
        "<a href=\"https://colab.research.google.com/github/Komali-devireddy/day-6/blob/main/Copy_of_Welcome_to_Colaboratory.ipynb\" target=\"_parent\"><img src=\"https://colab.research.google.com/assets/colab-badge.svg\" alt=\"Open In Colab\"/></a>"
      ]
    },
    {
      "cell_type": "code",
      "source": [
        "sentence=\" Hello we # are in Mallareddy / University .It was Great experience % to observe and talk to the people !\""
      ],
      "metadata": {
        "id": "xjIsA13S7k96"
      },
      "execution_count": null,
      "outputs": []
    },
    {
      "cell_type": "code",
      "source": [
        "from nltk.corpus import stopwords\n",
        "import nltk\n",
        "nltk.download('stopwords')\n",
        "stop_words=stopwords.words('english')\n",
        "print(stop_words)"
      ],
      "metadata": {
        "id": "jMAmX_0m-HZ-",
        "outputId": "2d5fe6a6-e4b8-4ad4-a879-2445f6a00459",
        "colab": {
          "base_uri": "https://localhost:8080/"
        }
      },
      "execution_count": null,
      "outputs": [
        {
          "output_type": "stream",
          "name": "stdout",
          "text": [
            "['i', 'me', 'my', 'myself', 'we', 'our', 'ours', 'ourselves', 'you', \"you're\", \"you've\", \"you'll\", \"you'd\", 'your', 'yours', 'yourself', 'yourselves', 'he', 'him', 'his', 'himself', 'she', \"she's\", 'her', 'hers', 'herself', 'it', \"it's\", 'its', 'itself', 'they', 'them', 'their', 'theirs', 'themselves', 'what', 'which', 'who', 'whom', 'this', 'that', \"that'll\", 'these', 'those', 'am', 'is', 'are', 'was', 'were', 'be', 'been', 'being', 'have', 'has', 'had', 'having', 'do', 'does', 'did', 'doing', 'a', 'an', 'the', 'and', 'but', 'if', 'or', 'because', 'as', 'until', 'while', 'of', 'at', 'by', 'for', 'with', 'about', 'against', 'between', 'into', 'through', 'during', 'before', 'after', 'above', 'below', 'to', 'from', 'up', 'down', 'in', 'out', 'on', 'off', 'over', 'under', 'again', 'further', 'then', 'once', 'here', 'there', 'when', 'where', 'why', 'how', 'all', 'any', 'both', 'each', 'few', 'more', 'most', 'other', 'some', 'such', 'no', 'nor', 'not', 'only', 'own', 'same', 'so', 'than', 'too', 'very', 's', 't', 'can', 'will', 'just', 'don', \"don't\", 'should', \"should've\", 'now', 'd', 'll', 'm', 'o', 're', 've', 'y', 'ain', 'aren', \"aren't\", 'couldn', \"couldn't\", 'didn', \"didn't\", 'doesn', \"doesn't\", 'hadn', \"hadn't\", 'hasn', \"hasn't\", 'haven', \"haven't\", 'isn', \"isn't\", 'ma', 'mightn', \"mightn't\", 'mustn', \"mustn't\", 'needn', \"needn't\", 'shan', \"shan't\", 'shouldn', \"shouldn't\", 'wasn', \"wasn't\", 'weren', \"weren't\", 'won', \"won't\", 'wouldn', \"wouldn't\"]\n"
          ]
        },
        {
          "output_type": "stream",
          "name": "stderr",
          "text": [
            "[nltk_data] Downloading package stopwords to /root/nltk_data...\n",
            "[nltk_data]   Unzipping corpora/stopwords.zip.\n"
          ]
        }
      ]
    },
    {
      "cell_type": "code",
      "source": [
        "#punctuations\n",
        "import string\n",
        "string.punctuation\n",
        "punctuation_list=string.punctuation\n",
        "print(punctuation_list)"
      ],
      "metadata": {
        "id": "NTV_ObxO_5x_",
        "outputId": "24e01e53-f41b-4880-f133-76f17b172d87",
        "colab": {
          "base_uri": "https://localhost:8080/"
        }
      },
      "execution_count": null,
      "outputs": [
        {
          "output_type": "stream",
          "name": "stdout",
          "text": [
            "!\"#$%&'()*+,-./:;<=>?@[\\]^_`{|}~\n"
          ]
        }
      ]
    },
    {
      "cell_type": "code",
      "source": [
        "sent_lower=sentence.lower()\n",
        "print(sent_lower)"
      ],
      "metadata": {
        "id": "drzX_uTZA2Iu",
        "outputId": "09760789-9bd1-4324-9bb5-591a1e64d0f5",
        "colab": {
          "base_uri": "https://localhost:8080/"
        }
      },
      "execution_count": null,
      "outputs": [
        {
          "output_type": "stream",
          "name": "stdout",
          "text": [
            " hello we # are in mallareddy / university .it was great experience % to observe and talk to the people !\n"
          ]
        }
      ]
    },
    {
      "cell_type": "code",
      "source": [
        "### remove puncuations\n",
        "for char in punctuation_list:\n",
        "  sent_lower=sent_lower.replace(char,'')\n",
        "print(sent_lower)"
      ],
      "metadata": {
        "id": "I8J_dJDABL3K",
        "outputId": "a65db4b0-01bd-43e2-be72-9b83148968a4",
        "colab": {
          "base_uri": "https://localhost:8080/"
        }
      },
      "execution_count": null,
      "outputs": [
        {
          "output_type": "stream",
          "name": "stdout",
          "text": [
            " hello we  are in mallareddy  university it was great experience  to observe and talk to the people \n"
          ]
        }
      ]
    },
    {
      "cell_type": "code",
      "source": [
        "clean_sent=[]\n",
        "for word in sent_lower.split():\n",
        "  if word  in stop_words:\n",
        "    clean_sent.append(' ')\n",
        "  else:\n",
        "    clean_sent.append(word)\n",
        "\" \".join(clean_sent)"
      ],
      "metadata": {
        "id": "XkGqiAmQBywC",
        "outputId": "c3fcf860-4a66-44a4-c0dc-5ec2786747d6",
        "colab": {
          "base_uri": "https://localhost:8080/",
          "height": 36
        }
      },
      "execution_count": null,
      "outputs": [
        {
          "output_type": "execute_result",
          "data": {
            "text/plain": [
              "'hello       mallareddy university     great experience   observe   talk     people'"
            ],
            "application/vnd.google.colaboratory.intrinsic+json": {
              "type": "string"
            }
          },
          "metadata": {},
          "execution_count": 7
        }
      ]
    },
    {
      "cell_type": "code",
      "source": [
        "clean_sent"
      ],
      "metadata": {
        "id": "iCdolZZHBqlf",
        "outputId": "1a7511c0-2cdb-439c-cea1-424143b1b17f",
        "colab": {
          "base_uri": "https://localhost:8080/"
        }
      },
      "execution_count": null,
      "outputs": [
        {
          "output_type": "execute_result",
          "data": {
            "text/plain": [
              "['hello',\n",
              " ' ',\n",
              " ' ',\n",
              " ' ',\n",
              " 'mallareddy',\n",
              " 'university',\n",
              " ' ',\n",
              " ' ',\n",
              " 'great',\n",
              " 'experience',\n",
              " ' ',\n",
              " 'observe',\n",
              " ' ',\n",
              " 'talk',\n",
              " ' ',\n",
              " ' ',\n",
              " 'people']"
            ]
          },
          "metadata": {},
          "execution_count": 8
        }
      ]
    }
  ],
  "metadata": {
    "colab": {
      "toc_visible": true,
      "provenance": [],
      "include_colab_link": true
    },
    "kernelspec": {
      "display_name": "Python 3",
      "name": "python3"
    }
  },
  "nbformat": 4,
  "nbformat_minor": 0
}